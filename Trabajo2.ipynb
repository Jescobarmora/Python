{
  "nbformat": 4,
  "nbformat_minor": 0,
  "metadata": {
    "colab": {
      "name": "Trabajo2.ipynb",
      "provenance": [],
      "collapsed_sections": [],
      "authorship_tag": "ABX9TyNz2Xj30/ZpGc4z85Q8PxoS",
      "include_colab_link": true
    },
    "kernelspec": {
      "name": "python3",
      "display_name": "Python 3"
    },
    "language_info": {
      "name": "python"
    }
  },
  "cells": [
    {
      "cell_type": "markdown",
      "metadata": {
        "id": "view-in-github",
        "colab_type": "text"
      },
      "source": [
        "<a href=\"https://colab.research.google.com/github/Jescobarmora/Python/blob/main/Trabajo2.ipynb\" target=\"_parent\"><img src=\"https://colab.research.google.com/assets/colab-badge.svg\" alt=\"Open In Colab\"/></a>"
      ]
    },
    {
      "cell_type": "code",
      "metadata": {
        "id": "uk3BbyomF4oP"
      },
      "source": [
        "from scipy.stats import variation  \n",
        "from google.colab import files\n",
        "from google.colab import drive\n",
        "import statistics as stats\n",
        "import pandas as pd\n",
        "import numpy as np\n",
        "import matplotlib\n",
        "import io"
      ],
      "execution_count": 9,
      "outputs": []
    },
    {
      "cell_type": "code",
      "metadata": {
        "colab": {
          "resources": {
            "http://localhost:8080/nbextensions/google.colab/files.js": {
              "data": "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",
              "ok": true,
              "headers": [
                [
                  "content-type",
                  "application/javascript"
                ]
              ],
              "status": 200,
              "status_text": ""
            }
          },
          "base_uri": "https://localhost:8080/",
          "height": 72
        },
        "id": "Y4qAVdR_Ld3G",
        "outputId": "e3cffa27-77b1-40dd-def0-1c2f2a9c8cc6"
      },
      "source": [
        "datos = files.upload()\n",
        "BASE = pd.read_excel(io.BytesIO(datos['Recaudo_Vehicular_ANI.xlsx']))"
      ],
      "execution_count": null,
      "outputs": [
        {
          "output_type": "display_data",
          "data": {
            "text/html": [
              "\n",
              "     <input type=\"file\" id=\"files-7c3a5e7c-0d2a-47fc-9701-3e56045f8638\" name=\"files[]\" multiple disabled\n",
              "        style=\"border:none\" />\n",
              "     <output id=\"result-7c3a5e7c-0d2a-47fc-9701-3e56045f8638\">\n",
              "      Upload widget is only available when the cell has been executed in the\n",
              "      current browser session. Please rerun this cell to enable.\n",
              "      </output>\n",
              "      <script src=\"/nbextensions/google.colab/files.js\"></script> "
            ],
            "text/plain": [
              "<IPython.core.display.HTML object>"
            ]
          },
          "metadata": {}
        },
        {
          "output_type": "stream",
          "name": "stdout",
          "text": [
            "Saving Recaudo_Vehicular_ANI.xlsx to Recaudo_Vehicular_ANI (10).xlsx\n"
          ]
        }
      ]
    },
    {
      "cell_type": "code",
      "metadata": {
        "colab": {
          "base_uri": "https://localhost:8080/",
          "height": 204
        },
        "id": "BHpVkYwNNSXi",
        "outputId": "041ed2f4-be3a-4960-bc4b-cafd0b3482fc"
      },
      "source": [
        "BASE.head()"
      ],
      "execution_count": null,
      "outputs": [
        {
          "output_type": "execute_result",
          "data": {
            "text/html": [
              "<div>\n",
              "<style scoped>\n",
              "    .dataframe tbody tr th:only-of-type {\n",
              "        vertical-align: middle;\n",
              "    }\n",
              "\n",
              "    .dataframe tbody tr th {\n",
              "        vertical-align: top;\n",
              "    }\n",
              "\n",
              "    .dataframe thead th {\n",
              "        text-align: right;\n",
              "    }\n",
              "</style>\n",
              "<table border=\"1\" class=\"dataframe\">\n",
              "  <thead>\n",
              "    <tr style=\"text-align: right;\">\n",
              "      <th></th>\n",
              "      <th>IdPeaje</th>\n",
              "      <th>Peaje</th>\n",
              "      <th>Desde</th>\n",
              "      <th>Hasta</th>\n",
              "      <th>Año</th>\n",
              "      <th>Mes</th>\n",
              "      <th>Días</th>\n",
              "      <th>TarifaFsv</th>\n",
              "      <th>RecaudoFsv</th>\n",
              "      <th>RecaudoSobrante</th>\n",
              "      <th>Recaudo</th>\n",
              "    </tr>\n",
              "  </thead>\n",
              "  <tbody>\n",
              "    <tr>\n",
              "      <th>0</th>\n",
              "      <td>1</td>\n",
              "      <td>ALVARADO</td>\n",
              "      <td>42237</td>\n",
              "      <td>42247</td>\n",
              "      <td>2015</td>\n",
              "      <td>8</td>\n",
              "      <td>11</td>\n",
              "      <td>260</td>\n",
              "      <td>11852100</td>\n",
              "      <td>91500</td>\n",
              "      <td>430320000</td>\n",
              "    </tr>\n",
              "    <tr>\n",
              "      <th>1</th>\n",
              "      <td>1</td>\n",
              "      <td>ALVARADO</td>\n",
              "      <td>42248</td>\n",
              "      <td>42277</td>\n",
              "      <td>2015</td>\n",
              "      <td>9</td>\n",
              "      <td>30</td>\n",
              "      <td>260</td>\n",
              "      <td>35914060</td>\n",
              "      <td>177600</td>\n",
              "      <td>1282064400</td>\n",
              "    </tr>\n",
              "    <tr>\n",
              "      <th>2</th>\n",
              "      <td>1</td>\n",
              "      <td>ALVARADO</td>\n",
              "      <td>42278</td>\n",
              "      <td>42308</td>\n",
              "      <td>2015</td>\n",
              "      <td>10</td>\n",
              "      <td>31</td>\n",
              "      <td>260</td>\n",
              "      <td>39146380</td>\n",
              "      <td>208200</td>\n",
              "      <td>1392954400</td>\n",
              "    </tr>\n",
              "    <tr>\n",
              "      <th>3</th>\n",
              "      <td>1</td>\n",
              "      <td>ALVARADO</td>\n",
              "      <td>42309</td>\n",
              "      <td>42338</td>\n",
              "      <td>2015</td>\n",
              "      <td>11</td>\n",
              "      <td>30</td>\n",
              "      <td>260</td>\n",
              "      <td>38277720</td>\n",
              "      <td>187700</td>\n",
              "      <td>1370377100</td>\n",
              "    </tr>\n",
              "    <tr>\n",
              "      <th>4</th>\n",
              "      <td>1</td>\n",
              "      <td>ALVARADO</td>\n",
              "      <td>42339</td>\n",
              "      <td>42369</td>\n",
              "      <td>2015</td>\n",
              "      <td>12</td>\n",
              "      <td>31</td>\n",
              "      <td>260</td>\n",
              "      <td>45848660</td>\n",
              "      <td>161900</td>\n",
              "      <td>1584199700</td>\n",
              "    </tr>\n",
              "  </tbody>\n",
              "</table>\n",
              "</div>"
            ],
            "text/plain": [
              "   IdPeaje     Peaje  Desde  ...  RecaudoFsv  RecaudoSobrante     Recaudo\n",
              "0        1  ALVARADO  42237  ...    11852100            91500   430320000\n",
              "1        1  ALVARADO  42248  ...    35914060           177600  1282064400\n",
              "2        1  ALVARADO  42278  ...    39146380           208200  1392954400\n",
              "3        1  ALVARADO  42309  ...    38277720           187700  1370377100\n",
              "4        1  ALVARADO  42339  ...    45848660           161900  1584199700\n",
              "\n",
              "[5 rows x 11 columns]"
            ]
          },
          "metadata": {},
          "execution_count": 3
        }
      ]
    },
    {
      "cell_type": "code",
      "metadata": {
        "colab": {
          "base_uri": "https://localhost:8080/"
        },
        "id": "7MP-9X77bWtQ",
        "outputId": "58d2be72-d096-4273-e147-76862651befb"
      },
      "source": [
        "print(BASE.info())"
      ],
      "execution_count": null,
      "outputs": [
        {
          "output_type": "stream",
          "name": "stdout",
          "text": [
            "<class 'pandas.core.frame.DataFrame'>\n",
            "RangeIndex: 10128 entries, 0 to 10127\n",
            "Data columns (total 11 columns):\n",
            " #   Column           Non-Null Count  Dtype \n",
            "---  ------           --------------  ----- \n",
            " 0   IdPeaje          10128 non-null  int64 \n",
            " 1   Peaje            10128 non-null  object\n",
            " 2   Desde            10128 non-null  int64 \n",
            " 3   Hasta            10128 non-null  int64 \n",
            " 4   Año              10128 non-null  int64 \n",
            " 5   Mes              10128 non-null  int64 \n",
            " 6   Días             10128 non-null  int64 \n",
            " 7   TarifaFsv        10128 non-null  int64 \n",
            " 8   RecaudoFsv       10128 non-null  int64 \n",
            " 9   RecaudoSobrante  10128 non-null  int64 \n",
            " 10  Recaudo          10128 non-null  int64 \n",
            "dtypes: int64(10), object(1)\n",
            "memory usage: 870.5+ KB\n",
            "None\n"
          ]
        }
      ]
    },
    {
      "cell_type": "code",
      "metadata": {
        "id": "kF-TyoXseUkF",
        "colab": {
          "base_uri": "https://localhost:8080/",
          "height": 469
        },
        "outputId": "81b63361-a935-4526-ae0b-78b4cb5b7a2f"
      },
      "source": [
        "def pp ():\n",
        "\n",
        "  Año = int(input(\"Ingrese el Año \"))\n",
        "\n",
        "  RecaudoDiario = BASE['Recaudo']/BASE['Días']\n",
        "  BASE['RecaudoDiario'] = RecaudoDiario\n",
        "\n",
        "  CV = lambda x: stats.stdev(x)/stats.mean(x)*100\n",
        "\n",
        "  Año2014 = BASE[BASE['Año']==2014]\n",
        "  Año2015 = BASE[BASE['Año']==2015]\n",
        "  Año2016 = BASE[BASE['Año']==2016]\n",
        "  Año2017 = BASE[BASE['Año']==2017]\n",
        "  Año2018 = BASE[BASE['Año']==2018]\n",
        "  Año2019 = BASE[BASE['Año']==2019]\n",
        "  Año2020 = BASE[BASE['Año']==2020]\n",
        "  Año2021 = BASE[BASE['Año']==2021]\n",
        "\n",
        "  if Año==2014:\n",
        "    pivot = pd.pivot_table(Año2014 ,values = 'RecaudoDiario', index = 'Mes', aggfunc = (min, max, stats.mean, stats.median, stats.stdev, CV))\n",
        "  elif Año==2015:\n",
        "    pivot = pd.pivot_table(Año2015 ,values = 'RecaudoDiario', index = 'Mes', aggfunc = (min, max, stats.mean, stats.median, stats.stdev, CV))\n",
        "  elif Año==2016:\n",
        "    pivot = pd.pivot_table(Año2016 ,values = 'RecaudoDiario', index = 'Mes', aggfunc = (min, max, stats.mean, stats.median, stats.stdev, CV))\n",
        "  elif Año==2017:\n",
        "    pivot = pd.pivot_table(Año2017 ,values = 'RecaudoDiario', index = 'Mes', aggfunc = (min, max, stats.mean, stats.median, stats.stdev, CV))\n",
        "  elif Año==2018:\n",
        "    pivot = pd.pivot_table(Año2018 ,values = 'RecaudoDiario', index = 'Mes', aggfunc = (min, max, stats.mean, stats.median, stats.stdev, CV))\n",
        "  elif Año==2019:\n",
        "    pivot = pd.pivot_table(Año2019 ,values = 'RecaudoDiario', index = 'Mes', aggfunc = (min, max, stats.mean, stats.median, stats.stdev, CV))\n",
        "  elif Año==2020:\n",
        "    pivot = pd.pivot_table(Año2020 ,values = 'RecaudoDiario', index = 'Mes', aggfunc = (min, max, stats.mean, stats.median, stats.stdev, CV))\n",
        "  elif Año==2021:\n",
        "    pivot = pd.pivot_table(Año2021 ,values = 'RecaudoDiario', index = 'Mes', aggfunc = (min, max, stats.mean, stats.median, stats.stdev, CV))\n",
        "  else:\n",
        "    print(\"Rectifique El Año\")\n",
        "\n",
        "  return pivot \n",
        "\n",
        "pp()"
      ],
      "execution_count": null,
      "outputs": [
        {
          "name": "stdout",
          "output_type": "stream",
          "text": [
            "Ingrese el Año 2020\n"
          ]
        },
        {
          "output_type": "execute_result",
          "data": {
            "text/html": [
              "<div>\n",
              "<style scoped>\n",
              "    .dataframe tbody tr th:only-of-type {\n",
              "        vertical-align: middle;\n",
              "    }\n",
              "\n",
              "    .dataframe tbody tr th {\n",
              "        vertical-align: top;\n",
              "    }\n",
              "\n",
              "    .dataframe thead th {\n",
              "        text-align: right;\n",
              "    }\n",
              "</style>\n",
              "<table border=\"1\" class=\"dataframe\">\n",
              "  <thead>\n",
              "    <tr style=\"text-align: right;\">\n",
              "      <th></th>\n",
              "      <th>&lt;lambda_0&gt;</th>\n",
              "      <th>max</th>\n",
              "      <th>mean</th>\n",
              "      <th>median</th>\n",
              "      <th>min</th>\n",
              "      <th>stdev</th>\n",
              "    </tr>\n",
              "    <tr>\n",
              "      <th>Mes</th>\n",
              "      <th></th>\n",
              "      <th></th>\n",
              "      <th></th>\n",
              "      <th></th>\n",
              "      <th></th>\n",
              "      <th></th>\n",
              "    </tr>\n",
              "  </thead>\n",
              "  <tbody>\n",
              "    <tr>\n",
              "      <th>1</th>\n",
              "      <td>92.832548</td>\n",
              "      <td>4.639013e+08</td>\n",
              "      <td>8.461785e+07</td>\n",
              "      <td>6.339780e+07</td>\n",
              "      <td>1.836532e+06</td>\n",
              "      <td>7.855290e+07</td>\n",
              "    </tr>\n",
              "    <tr>\n",
              "      <th>2</th>\n",
              "      <td>98.462876</td>\n",
              "      <td>3.606267e+08</td>\n",
              "      <td>7.685487e+07</td>\n",
              "      <td>5.450830e+07</td>\n",
              "      <td>2.841500e+05</td>\n",
              "      <td>7.567352e+07</td>\n",
              "    </tr>\n",
              "    <tr>\n",
              "      <th>3</th>\n",
              "      <td>164.485920</td>\n",
              "      <td>2.860181e+08</td>\n",
              "      <td>3.163539e+07</td>\n",
              "      <td>4.144572e+06</td>\n",
              "      <td>0.000000e+00</td>\n",
              "      <td>5.203576e+07</td>\n",
              "    </tr>\n",
              "    <tr>\n",
              "      <th>4</th>\n",
              "      <td>664.254513</td>\n",
              "      <td>1.291630e+07</td>\n",
              "      <td>1.754736e+05</td>\n",
              "      <td>0.000000e+00</td>\n",
              "      <td>0.000000e+00</td>\n",
              "      <td>1.165592e+06</td>\n",
              "    </tr>\n",
              "    <tr>\n",
              "      <th>5</th>\n",
              "      <td>314.224603</td>\n",
              "      <td>2.051620e+07</td>\n",
              "      <td>9.436173e+05</td>\n",
              "      <td>0.000000e+00</td>\n",
              "      <td>0.000000e+00</td>\n",
              "      <td>2.965078e+06</td>\n",
              "    </tr>\n",
              "    <tr>\n",
              "      <th>6</th>\n",
              "      <td>93.488216</td>\n",
              "      <td>2.437288e+08</td>\n",
              "      <td>5.033022e+07</td>\n",
              "      <td>3.834128e+07</td>\n",
              "      <td>1.539400e+06</td>\n",
              "      <td>4.705282e+07</td>\n",
              "    </tr>\n",
              "    <tr>\n",
              "      <th>7</th>\n",
              "      <td>94.051216</td>\n",
              "      <td>2.580275e+08</td>\n",
              "      <td>5.534485e+07</td>\n",
              "      <td>3.991457e+07</td>\n",
              "      <td>1.466203e+06</td>\n",
              "      <td>5.205250e+07</td>\n",
              "    </tr>\n",
              "    <tr>\n",
              "      <th>8</th>\n",
              "      <td>93.956410</td>\n",
              "      <td>2.583884e+08</td>\n",
              "      <td>5.572126e+07</td>\n",
              "      <td>3.832286e+07</td>\n",
              "      <td>1.520258e+06</td>\n",
              "      <td>5.235370e+07</td>\n",
              "    </tr>\n",
              "    <tr>\n",
              "      <th>9</th>\n",
              "      <td>98.512454</td>\n",
              "      <td>3.497952e+08</td>\n",
              "      <td>7.336638e+07</td>\n",
              "      <td>5.016744e+07</td>\n",
              "      <td>2.443193e+06</td>\n",
              "      <td>7.227503e+07</td>\n",
              "    </tr>\n",
              "    <tr>\n",
              "      <th>10</th>\n",
              "      <td>99.623115</td>\n",
              "      <td>3.923911e+08</td>\n",
              "      <td>8.139546e+07</td>\n",
              "      <td>5.395633e+07</td>\n",
              "      <td>3.159719e+06</td>\n",
              "      <td>8.108869e+07</td>\n",
              "    </tr>\n",
              "    <tr>\n",
              "      <th>11</th>\n",
              "      <td>100.096460</td>\n",
              "      <td>3.826582e+08</td>\n",
              "      <td>7.959601e+07</td>\n",
              "      <td>5.431704e+07</td>\n",
              "      <td>2.253333e+04</td>\n",
              "      <td>7.967279e+07</td>\n",
              "    </tr>\n",
              "    <tr>\n",
              "      <th>12</th>\n",
              "      <td>94.780835</td>\n",
              "      <td>3.962211e+08</td>\n",
              "      <td>8.848505e+07</td>\n",
              "      <td>6.077720e+07</td>\n",
              "      <td>4.469887e+06</td>\n",
              "      <td>8.386687e+07</td>\n",
              "    </tr>\n",
              "  </tbody>\n",
              "</table>\n",
              "</div>"
            ],
            "text/plain": [
              "     <lambda_0>           max  ...           min         stdev\n",
              "Mes                            ...                            \n",
              "1     92.832548  4.639013e+08  ...  1.836532e+06  7.855290e+07\n",
              "2     98.462876  3.606267e+08  ...  2.841500e+05  7.567352e+07\n",
              "3    164.485920  2.860181e+08  ...  0.000000e+00  5.203576e+07\n",
              "4    664.254513  1.291630e+07  ...  0.000000e+00  1.165592e+06\n",
              "5    314.224603  2.051620e+07  ...  0.000000e+00  2.965078e+06\n",
              "6     93.488216  2.437288e+08  ...  1.539400e+06  4.705282e+07\n",
              "7     94.051216  2.580275e+08  ...  1.466203e+06  5.205250e+07\n",
              "8     93.956410  2.583884e+08  ...  1.520258e+06  5.235370e+07\n",
              "9     98.512454  3.497952e+08  ...  2.443193e+06  7.227503e+07\n",
              "10    99.623115  3.923911e+08  ...  3.159719e+06  8.108869e+07\n",
              "11   100.096460  3.826582e+08  ...  2.253333e+04  7.967279e+07\n",
              "12    94.780835  3.962211e+08  ...  4.469887e+06  8.386687e+07\n",
              "\n",
              "[12 rows x 6 columns]"
            ]
          },
          "metadata": {},
          "execution_count": 5
        }
      ]
    },
    {
      "cell_type": "code",
      "metadata": {
        "colab": {
          "base_uri": "https://localhost:8080/",
          "height": 597
        },
        "id": "08I7ahSjbuas",
        "outputId": "2399ca4a-bae3-43aa-e8b8-d531d5ec7050"
      },
      "source": [
        "def sp():\n",
        "\n",
        "  RecaudoDiario = BASE['Recaudo']/BASE['Días']\n",
        "  BASE['RecaudoDiario'] = RecaudoDiario\n",
        "\n",
        "  R = pd.pivot_table(BASE, values='Recaudo', index= 'Año', aggfunc = 'mean')\n",
        "  RP = R.plot(xticks=R.index, ylabel='Recaudo')\n",
        "\n",
        "  RD = pd.pivot_table(BASE, values='RecaudoDiario', index='Año', aggfunc = 'mean')\n",
        "  RDP = RD.plot(xticks=RD.index, ylabel='Recaudo Diario')\n",
        "\n",
        "  return RP, RDP\n",
        "\n",
        "sp()"
      ],
      "execution_count": 18,
      "outputs": [
        {
          "output_type": "execute_result",
          "data": {
            "text/plain": [
              "(<matplotlib.axes._subplots.AxesSubplot at 0x7f93877b4390>,\n",
              " <matplotlib.axes._subplots.AxesSubplot at 0x7f9387892550>)"
            ]
          },
          "metadata": {},
          "execution_count": 18
        },
        {
          "output_type": "display_data",
          "data": {
            "image/png": "[encoded data removed]",
            "text/plain": [
              "<Figure size 432x288 with 1 Axes>"
            ]
          },
          "metadata": {
            "needs_background": "light"
          }
        },
        {
          "output_type": "display_data",
          "data": {
            "image/png": "[encoded data removed]",
            "text/plain": [
              "<Figure size 432x288 with 1 Axes>"
            ]
          },
          "metadata": {
            "needs_background": "light"
          }
        }
      ]
    },
    {
      "cell_type": "code",
      "metadata": {
        "id": "x5upTQdKSI2P",
        "colab": {
          "base_uri": "https://localhost:8080/"
        },
        "outputId": "f28d6c50-ce11-4b46-b374-64e1e783c5d3"
      },
      "source": [
        "def tp():\n",
        "\n",
        "  RecaudoCortes = pd.cut(BASE['Recaudo'], 3)\n",
        "  BASE['RecaudoCortes'] = RecaudoCortes\n",
        "\n",
        "  CUT = BASE.groupby([BASE['Año'], BASE['Días'], BASE['RecaudoCortes']]).size()\n",
        "\n",
        "  return CUT\n",
        "\n",
        "tp()"
      ],
      "execution_count": 55,
      "outputs": [
        {
          "output_type": "execute_result",
          "data": {
            "text/plain": [
              "Año   Días  RecaudoCortes                \n",
              "2014  1     (-12552733.5, 4184244500.0]       0\n",
              "            (4184244500.0, 8368489000.0]      0\n",
              "            (8368489000.0, 12552733500.0]     0\n",
              "      2     (-12552733.5, 4184244500.0]       0\n",
              "            (4184244500.0, 8368489000.0]      0\n",
              "                                             ..\n",
              "2021  31    (4184244500.0, 8368489000.0]     16\n",
              "            (8368489000.0, 12552733500.0]     5\n",
              "      62    (-12552733.5, 4184244500.0]       0\n",
              "            (4184244500.0, 8368489000.0]      0\n",
              "            (8368489000.0, 12552733500.0]     0\n",
              "Length: 768, dtype: int64"
            ]
          },
          "metadata": {},
          "execution_count": 55
        }
      ]
    }
  ]
}